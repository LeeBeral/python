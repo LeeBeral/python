{
 "cells": [
  {
   "cell_type": "markdown",
   "metadata": {},
   "source": [
    "函数的类型时function，pass的类型是NoneType"
   ]
  },
  {
   "cell_type": "code",
   "execution_count": 1,
   "metadata": {},
   "outputs": [
    {
     "data": {
      "text/plain": [
       "function"
      ]
     },
     "execution_count": 1,
     "metadata": {},
     "output_type": "execute_result"
    }
   ],
   "source": [
    "def a():\n",
    "    pass\n",
    "type(a)"
   ]
  },
  {
   "cell_type": "code",
   "execution_count": 2,
   "metadata": {},
   "outputs": [
    {
     "data": {
      "text/plain": [
       "NoneType"
      ]
     },
     "execution_count": 2,
     "metadata": {},
     "output_type": "execute_result"
    }
   ],
   "source": [
    "def a():\n",
    "    pass\n",
    "type(a())"
   ]
  },
  {
   "cell_type": "markdown",
   "metadata": {},
   "source": [
    "elif增加判断语句"
   ]
  },
  {
   "cell_type": "code",
   "execution_count": 4,
   "metadata": {},
   "outputs": [
    {
     "name": "stdout",
     "output_type": "stream",
     "text": [
      "yeah\n"
     ]
    }
   ],
   "source": [
    "if 3 < 5:\n",
    "    print('yeah')\n",
    "elif 3 > 5:\n",
    "    print('good')"
   ]
  },
  {
   "cell_type": "markdown",
   "metadata": {},
   "source": [
    "多参数传入的是一个元组"
   ]
  },
  {
   "cell_type": "code",
   "execution_count": 6,
   "metadata": {},
   "outputs": [
    {
     "name": "stdout",
     "output_type": "stream",
     "text": [
      "Hello ('Nowcoder', 'Google')\n",
      "<class 'tuple'>\n"
     ]
    }
   ],
   "source": [
    "def greetPerson(*name):\n",
    "    print('Hello', name)\n",
    "    print(type(name))\n",
    "    \n",
    "greetPerson('Nowcoder', 'Google')"
   ]
  },
  {
   "cell_type": "markdown",
   "metadata": {},
   "source": [
    "map的用法：map(计算函数,可迭代对象)"
   ]
  },
  {
   "cell_type": "code",
   "execution_count": 7,
   "metadata": {},
   "outputs": [
    {
     "name": "stdout",
     "output_type": "stream",
     "text": [
      "(1, 3, 6)\n"
     ]
    }
   ],
   "source": [
    "numbers = [1, 3, 6]\n",
    "newNumbers = tuple(map(lambda x: x , numbers))\n",
    "print(newNumbers)"
   ]
  },
  {
   "cell_type": "code",
   "execution_count": 8,
   "metadata": {},
   "outputs": [
    {
     "name": "stdout",
     "output_type": "stream",
     "text": [
      "(2, 6, 12)\n"
     ]
    }
   ],
   "source": [
    "numbers = [1, 3, 6]\n",
    "newNumbers = tuple(map(lambda x: x*2 , numbers))\n",
    "print(newNumbers)"
   ]
  },
  {
   "cell_type": "code",
   "execution_count": 17,
   "metadata": {},
   "outputs": [
    {
     "name": "stdout",
     "output_type": "stream",
     "text": [
      "3.141592653589793\n"
     ]
    }
   ],
   "source": [
    "from math import pi\n",
    "print(pi)"
   ]
  },
  {
   "cell_type": "markdown",
   "metadata": {},
   "source": [
    "break 语句用于终止当前循环。  \n",
    "continue 语句用于跳过当前剩余要执行的代码，执行下一次循环。  \n",
    "break 和 continue 语句通常与 if, if...else 和 if...elif...else 语句一起使用。"
   ]
  },
  {
   "cell_type": "code",
   "execution_count": 16,
   "metadata": {},
   "outputs": [
    {
     "name": "stdout",
     "output_type": "stream",
     "text": [
      "PYTHN"
     ]
    }
   ],
   "source": [
    "for char in 'PYTHON STRING':\n",
    "    if char == 'O':\n",
    "        continue\n",
    "    if char == ' ':\n",
    "        break\n",
    "    print(char, end='')"
   ]
  },
  {
   "cell_type": "markdown",
   "metadata": {},
   "source": [
    "for 和 while 都可以有 else 语句。"
   ]
  },
  {
   "cell_type": "markdown",
   "metadata": {},
   "source": [
    "乘方和乘的用法与数学中一样，相当于3x3^2"
   ]
  },
  {
   "cell_type": "code",
   "execution_count": 19,
   "metadata": {
    "scrolled": true
   },
   "outputs": [
    {
     "data": {
      "text/plain": [
       "3"
      ]
     },
     "execution_count": 19,
     "metadata": {},
     "output_type": "execute_result"
    }
   ],
   "source": [
    "3*1**3 "
   ]
  },
  {
   "cell_type": "markdown",
   "metadata": {},
   "source": [
    "逻辑判断：顺序not and or"
   ]
  },
  {
   "cell_type": "code",
   "execution_count": 20,
   "metadata": {},
   "outputs": [
    {
     "name": "stdout",
     "output_type": "stream",
     "text": [
      "yes\n"
     ]
    }
   ],
   "source": [
    "x = True\n",
    "y = False\n",
    "z = False\n",
    " \n",
    "if x or y and z:\n",
    "    print(\"yes\")\n",
    "else:\n",
    "    print(\"no\")"
   ]
  },
  {
   "cell_type": "code",
   "execution_count": 21,
   "metadata": {},
   "outputs": [
    {
     "name": "stdout",
     "output_type": "stream",
     "text": [
      "3\n"
     ]
    }
   ],
   "source": [
    "#优先级顺序为 NOT、AND、OR\n",
    "x = True\n",
    "y = False\n",
    "z = False\n",
    " \n",
    "if not x or y:\n",
    "    print(1)\n",
    "elif not x or not y and z:\n",
    "    print(2)\n",
    "elif not x or y or not y and x:\n",
    "    print(3)\n",
    "else:\n",
    "    print(4)"
   ]
  },
  {
   "cell_type": "markdown",
   "metadata": {},
   "source": [
    "%表示取余数，//地板除，整除数"
   ]
  },
  {
   "cell_type": "code",
   "execution_count": 22,
   "metadata": {},
   "outputs": [
    {
     "data": {
      "text/plain": [
       "1"
      ]
     },
     "execution_count": 22,
     "metadata": {},
     "output_type": "execute_result"
    }
   ],
   "source": [
    "#%表示取余数，//表示整除。\n",
    "22 % 3"
   ]
  },
  {
   "cell_type": "markdown",
   "metadata": {},
   "source": [
    "递归方法求平方根"
   ]
  },
  {
   "cell_type": "code",
   "execution_count": 74,
   "metadata": {},
   "outputs": [
    {
     "name": "stdout",
     "output_type": "stream",
     "text": [
      "3.2\n",
      "3.2\n"
     ]
    }
   ],
   "source": [
    "num = float(10)\n",
    "start = 0\n",
    "end = num\n",
    "while abs(mid**2-num) > 0.001:\n",
    "    mid = (end+start)/2\n",
    "    if mid**2 > num:\n",
    "        end = mid\n",
    "    else:\n",
    "        start = mid\n",
    "print(round(mid, ndigits=1))\n",
    "print('{:.1f}'.format(mid))"
   ]
  },
  {
   "cell_type": "code",
   "execution_count": 92,
   "metadata": {},
   "outputs": [
    {
     "name": "stdout",
     "output_type": "stream",
     "text": [
      "3.16\n"
     ]
    }
   ],
   "source": [
    "def a(num):\n",
    "    if num < 1:\n",
    "        pass\n",
    "    xiao = 0\n",
    "    da = num\n",
    "    \n",
    "    for i in range(100):\n",
    "        zhong = (xiao + da) / 2\n",
    "        sq = zhong ** 2\n",
    "        cha = abs(sq - num)\n",
    "        if cha < 0.0001:\n",
    "            return zhong\n",
    "        elif sq > num:\n",
    "            da = zhong\n",
    "        else:\n",
    "            xiao = zhong\n",
    "print(round(a(10),2))"
   ]
  },
  {
   "cell_type": "markdown",
   "metadata": {},
   "source": [
    "阶乘计算"
   ]
  },
  {
   "cell_type": "code",
   "execution_count": 105,
   "metadata": {},
   "outputs": [
    {
     "data": {
      "text/plain": [
       "6"
      ]
     },
     "execution_count": 105,
     "metadata": {},
     "output_type": "execute_result"
    }
   ],
   "source": [
    "def  fun(n):\n",
    "    if n == 1:\n",
    "        return 1\n",
    "    else:\n",
    "        return n * fun(n-1)\n",
    "fun(3)"
   ]
  },
  {
   "cell_type": "markdown",
   "metadata": {},
   "source": [
    "走楼梯  \n",
    "一次1-2个楼梯，多少中走法？"
   ]
  },
  {
   "cell_type": "code",
   "execution_count": 115,
   "metadata": {},
   "outputs": [
    {
     "data": {
      "text/plain": [
       "5"
      ]
     },
     "execution_count": 115,
     "metadata": {},
     "output_type": "execute_result"
    }
   ],
   "source": [
    "def fun(n):\n",
    "    if n <= 2:\n",
    "        return n\n",
    "    else:\n",
    "        return fun(n - 1) + fun(n - 2)\n",
    "fun(4)"
   ]
  },
  {
   "cell_type": "markdown",
   "metadata": {},
   "source": [
    "字符串也可以用count方法"
   ]
  },
  {
   "cell_type": "code",
   "execution_count": 141,
   "metadata": {},
   "outputs": [
    {
     "data": {
      "text/plain": [
       "2"
      ]
     },
     "execution_count": 141,
     "metadata": {},
     "output_type": "execute_result"
    }
   ],
   "source": [
    "st = 'Qwerq'\n",
    "alp = 'q'\n",
    "\n",
    "st = st.lower()\n",
    "lst.count(alp)"
   ]
  },
  {
   "cell_type": "code",
   "execution_count": 140,
   "metadata": {},
   "outputs": [
    {
     "data": {
      "text/plain": [
       "1"
      ]
     },
     "execution_count": 140,
     "metadata": {},
     "output_type": "execute_result"
    }
   ],
   "source": [
    "'Qwerq'.count(\"q\")"
   ]
  },
  {
   "cell_type": "markdown",
   "metadata": {},
   "source": [
    "在切片中的减号-，就表示相减"
   ]
  },
  {
   "cell_type": "code",
   "execution_count": 1,
   "metadata": {},
   "outputs": [
    {
     "data": {
      "text/plain": [
       "9"
      ]
     },
     "execution_count": 1,
     "metadata": {},
     "output_type": "execute_result"
    }
   ],
   "source": [
    "a = range(10)\n",
    "a[2-3]"
   ]
  },
  {
   "cell_type": "code",
   "execution_count": 2,
   "metadata": {},
   "outputs": [
    {
     "data": {
      "text/plain": [
       "1"
      ]
     },
     "execution_count": 2,
     "metadata": {},
     "output_type": "execute_result"
    }
   ],
   "source": [
    "a = range(10)\n",
    "a[3-2]"
   ]
  },
  {
   "cell_type": "code",
   "execution_count": 6,
   "metadata": {},
   "outputs": [
    {
     "name": "stdout",
     "output_type": "stream",
     "text": [
      "16\n"
     ]
    }
   ],
   "source": [
    "def adder(x):\n",
    "    def wrapper(y):\n",
    "        return x + y\n",
    "    return wrapper\n",
    "adder5 = adder(5)\n",
    "print(adder5(adder5(6)))"
   ]
  },
  {
   "cell_type": "markdown",
   "metadata": {},
   "source": [
    "isinstance（object，classinfo），用于判断object是否是classinfo的一个实例，或者object是否是classinfo类的子类的一个实例，如果是返回True.   \n",
    "issubclass（class，classinfo），用于判断class是否是classinfo类的子类，如果是返回True."
   ]
  },
  {
   "cell_type": "code",
   "execution_count": 10,
   "metadata": {},
   "outputs": [],
   "source": [
    "class A(object):\n",
    "    pass\n",
    "\n",
    "class B(A):\n",
    "    pass\n",
    "\n",
    "b = B()"
   ]
  },
  {
   "cell_type": "code",
   "execution_count": 12,
   "metadata": {},
   "outputs": [
    {
     "data": {
      "text/plain": [
       "True"
      ]
     },
     "execution_count": 12,
     "metadata": {},
     "output_type": "execute_result"
    }
   ],
   "source": [
    "isinstance(b, A) == True\n",
    "isinstance(b, object) == True\n",
    "issubclass(B, A) == True\n"
   ]
  },
  {
   "cell_type": "code",
   "execution_count": 13,
   "metadata": {},
   "outputs": [
    {
     "ename": "TypeError",
     "evalue": "issubclass() arg 1 must be a class",
     "output_type": "error",
     "traceback": [
      "\u001b[1;31m---------------------------------------------------------------------------\u001b[0m",
      "\u001b[1;31mTypeError\u001b[0m                                 Traceback (most recent call last)",
      "\u001b[1;32m<ipython-input-13-08c28e68fd80>\u001b[0m in \u001b[0;36m<module>\u001b[1;34m\u001b[0m\n\u001b[1;32m----> 1\u001b[1;33m \u001b[0missubclass\u001b[0m\u001b[1;33m(\u001b[0m\u001b[0mb\u001b[0m\u001b[1;33m,\u001b[0m \u001b[0mB\u001b[0m\u001b[1;33m)\u001b[0m \u001b[1;33m==\u001b[0m \u001b[1;32mTrue\u001b[0m\u001b[1;33m\u001b[0m\u001b[1;33m\u001b[0m\u001b[0m\n\u001b[0m",
      "\u001b[1;31mTypeError\u001b[0m: issubclass() arg 1 must be a class"
     ]
    }
   ],
   "source": [
    "issubclass(b, B) == True"
   ]
  },
  {
   "cell_type": "markdown",
   "metadata": {},
   "source": [
    "__new__和__init__的区别  \n",
    "\n",
    "__init__是当实例对象创建完成后被调用的，然后设置对象属性的一些初始值。  \n",
    "__new__是在实例创建之前被调用的，因为它的任务就是创建实例然后返回该实例，是个静态方法。  \n",
    "\n",
    "即，__new__在__init__之前被调用，__new__的返回值（实例）将传递给__init__方法的第一个参数，然后__init__给这个实例设置一些参数"
   ]
  },
  {
   "cell_type": "markdown",
   "metadata": {},
   "source": [
    "先输入一个数，再输入几个随机数，得到去重递增排序"
   ]
  },
  {
   "cell_type": "code",
   "execution_count": 39,
   "metadata": {},
   "outputs": [
    {
     "name": "stdout",
     "output_type": "stream",
     "text": [
      "324\n",
      "\n"
     ]
    }
   ],
   "source": [
    "a,res=int(input()),set()\n",
    "while True:\n",
    "    try:\n",
    "        for i in range(a):\n",
    "            res.add(int(input()))\n",
    "        for i in sorted(res):\n",
    "            print(i)\n",
    "    except:\n",
    "        break\n",
    " "
   ]
  },
  {
   "cell_type": "markdown",
   "metadata": {},
   "source": [
    "python十进制转16进制"
   ]
  },
  {
   "cell_type": "code",
   "execution_count": 32,
   "metadata": {
    "scrolled": true
   },
   "outputs": [
    {
     "name": "stdout",
     "output_type": "stream",
     "text": [
      "ac\n",
      "172\n",
      "\n"
     ]
    }
   ],
   "source": [
    "while True:\n",
    "    try:\n",
    "        print(int(input(),16))\n",
    "    except:\n",
    "        break"
   ]
  },
  {
   "cell_type": "code",
   "execution_count": 31,
   "metadata": {},
   "outputs": [
    {
     "data": {
      "text/plain": [
       "171"
      ]
     },
     "execution_count": 31,
     "metadata": {},
     "output_type": "execute_result"
    }
   ],
   "source": [
    "int('0xAB', 16)"
   ]
  },
  {
   "cell_type": "code",
   "execution_count": 5,
   "metadata": {},
   "outputs": [
    {
     "name": "stdout",
     "output_type": "stream",
     "text": [
      "dsagvniaoNIUHOIIONjerw\n",
      "dsagvnia\n",
      "oNIUHOII\n",
      "ONjerw00\n",
      "\n",
      "alpha\n"
     ]
    }
   ],
   "source": [
    "while True:\n",
    "    try:\n",
    "        text = input()\n",
    "        if not text.isalpha():\n",
    "            print('alpha')\n",
    "            break\n",
    "        for i in range(len(text) // 8 + 1):\n",
    "            alp = text[i*8:(i+1)*8]\n",
    "            if len(alp) == 8:\n",
    "                print(alp)\n",
    "            elif len(alp) == 0:\n",
    "                break\n",
    "            else:\n",
    "                print(alp+'0'* (8-len(alp)))\n",
    "        if not text:\n",
    "            break\n",
    "    except:\n",
    "        break"
   ]
  },
  {
   "cell_type": "markdown",
   "metadata": {},
   "source": [
    "index()的用法,从字符中获取排序"
   ]
  },
  {
   "cell_type": "code",
   "execution_count": 49,
   "metadata": {},
   "outputs": [
    {
     "data": {
      "text/plain": [
       "1"
      ]
     },
     "execution_count": 49,
     "metadata": {},
     "output_type": "execute_result"
    }
   ],
   "source": [
    "'abc'.index('bc')"
   ]
  },
  {
   "cell_type": "markdown",
   "metadata": {},
   "source": [
    "id的作用：  \n"
   ]
  },
  {
   "cell_type": "code",
   "execution_count": 45,
   "metadata": {},
   "outputs": [],
   "source": [
    "a = [1,2,4]\n",
    "b = [1,2,3]"
   ]
  },
  {
   "cell_type": "code",
   "execution_count": 46,
   "metadata": {},
   "outputs": [
    {
     "data": {
      "text/plain": [
       "140715679916528"
      ]
     },
     "execution_count": 46,
     "metadata": {},
     "output_type": "execute_result"
    }
   ],
   "source": [
    "id(a[2])"
   ]
  },
  {
   "cell_type": "code",
   "execution_count": 47,
   "metadata": {},
   "outputs": [
    {
     "data": {
      "text/plain": [
       "140715679916496"
      ]
     },
     "execution_count": 47,
     "metadata": {},
     "output_type": "execute_result"
    }
   ],
   "source": [
    "id(b[2])"
   ]
  },
  {
   "cell_type": "code",
   "execution_count": 51,
   "metadata": {},
   "outputs": [
    {
     "name": "stdout",
     "output_type": "stream",
     "text": [
      "None\n"
     ]
    }
   ],
   "source": [
    "dic = {'wa':18}\n",
    "t1 = dic.get('age')\n",
    "print(t1)"
   ]
  },
  {
   "cell_type": "code",
   "execution_count": 53,
   "metadata": {},
   "outputs": [
    {
     "name": "stdout",
     "output_type": "stream",
     "text": [
      "15\n"
     ]
    },
    {
     "data": {
      "text/plain": [
       "{'wa': 18}"
      ]
     },
     "execution_count": 53,
     "metadata": {},
     "output_type": "execute_result"
    }
   ],
   "source": [
    "t1 = dic.get('age',15)\n",
    "print(t1)\n",
    "dic"
   ]
  },
  {
   "cell_type": "code",
   "execution_count": 56,
   "metadata": {},
   "outputs": [
    {
     "data": {
      "text/plain": [
       "float"
      ]
     },
     "execution_count": 56,
     "metadata": {},
     "output_type": "execute_result"
    }
   ],
   "source": [
    "import math\n",
    "type(math.sqrt(8))"
   ]
  },
  {
   "cell_type": "code",
   "execution_count": 61,
   "metadata": {},
   "outputs": [
    {
     "name": "stdout",
     "output_type": "stream",
     "text": [
      "[True, False, True, True]\n"
     ]
    }
   ],
   "source": [
    "def func(n):\n",
    "    func = [True] * n\n",
    "    func[1] = False\n",
    "    print(func)\n",
    "func(4)"
   ]
  },
  {
   "cell_type": "code",
   "execution_count": 64,
   "metadata": {},
   "outputs": [
    {
     "name": "stdout",
     "output_type": "stream",
     "text": [
      "25\n"
     ]
    }
   ],
   "source": [
    "import math\n",
    "def sieve(size):\n",
    "    sieve= [True] * size\n",
    "    sieve[0] = False\n",
    "    sieve[1] = False\n",
    "    for i in range(2, int(math.sqrt(size)) + 1):\n",
    "        k= i * 2\n",
    "        while k < size:\n",
    "            sieve[k] = False\n",
    "            k += i\n",
    "    return sum(1 for x in sieve if x)\n",
    "print(sieve(100))"
   ]
  },
  {
   "cell_type": "code",
   "execution_count": 67,
   "metadata": {},
   "outputs": [
    {
     "name": "stdout",
     "output_type": "stream",
     "text": [
      "[[1. 0. 0. 0. 0.]\n",
      " [0. 1. 0. 0. 0.]\n",
      " [0. 1. 0. 0. 0.]\n",
      " [0. 0. 0. 0. 1.]\n",
      " [0. 0. 0. 0. 1.]\n",
      " [0. 0. 0. 1. 0.]\n",
      " [0. 0. 0. 0. 1.]\n",
      " [0. 0. 1. 0. 0.]\n",
      " [0. 0. 1. 0. 0.]\n",
      " [1. 0. 0. 0. 0.]]\n"
     ]
    }
   ],
   "source": [
    "import numpy as np\n",
    "a = np.repeat(np.arange(5).reshape([1,-1]),10,axis = 0)+10.0 \n",
    "b = np.random.randint(5, size= a.shape)\n",
    "c = np.argmin(a*b, axis=1)\n",
    "b = np.zeros(a.shape)\n",
    "b[np.arange(b.shape[0]), c] = 1\n",
    "print(b)"
   ]
  },
  {
   "cell_type": "markdown",
   "metadata": {},
   "source": [
    "字典本身是可变数据类型，字典的键记住两点：  \n",
    "唯一：同一个字典中的键必须唯一，如果出现多个相同的键，则最新的键会被记住；  \n",
    "不可变：键是不可变数据类型，使用可以是int,string,float,tuple"
   ]
  },
  {
   "cell_type": "code",
   "execution_count": 73,
   "metadata": {},
   "outputs": [
    {
     "name": "stdout",
     "output_type": "stream",
     "text": [
      "['a', 'bb', 'c', 'd']\n"
     ]
    }
   ],
   "source": [
    "lst = ['a','bb','c','d']\n",
    "lst.sort()\n",
    "print(lst)"
   ]
  },
  {
   "cell_type": "code",
   "execution_count": 71,
   "metadata": {},
   "outputs": [
    {
     "name": "stdout",
     "output_type": "stream",
     "text": [
      "3 4\n",
      "7\n",
      "45 6\n",
      "51\n",
      "fd\n"
     ]
    }
   ],
   "source": [
    "while True:\n",
    "    try:\n",
    "        nums = input()\n",
    "        lst = nums.split(' ')\n",
    "       # num_lst = [int(i) for i in lst]\n",
    "#        print(lst)\n",
    "\n",
    "        print(int(lst[0]) + int(lst[1]))\n",
    "    except:\n",
    "        break"
   ]
  },
  {
   "cell_type": "markdown",
   "metadata": {},
   "source": [
    "#### compile_ip=re.compile('^([1-9]|[1-9]\\d|1\\d{2}|2[0-4]\\d|25[0-5]|)\\.([1-9]|[1-9]\\d|1\\d{2}|2[0-4]\\d|25[0-5]|)\\.([1-9]|[1-9]\\d|1\\d{2}|2[0-4]\\d|25[0-5]|)\\.([1-9]|[1-9]\\d|1\\d{2}|2[0-4]\\d|25[0-5])$')\n"
   ]
  },
  {
   "cell_type": "code",
   "execution_count": 84,
   "metadata": {},
   "outputs": [
    {
     "name": "stdout",
     "output_type": "stream",
     "text": [
      "12321.414.234.2\n",
      "NO\n"
     ]
    }
   ],
   "source": [
    "import socket\n",
    "ip =  input()\n",
    "def ipV4(ip):\n",
    "    try:\n",
    "        socket.inet_pton(socket.AF_INET, ip)\n",
    "    except socket.error:\n",
    "        return False\n",
    "    return True\n",
    "\n",
    "if ipV4(ip):\n",
    "    print('YES')\n",
    "else:\n",
    "    print('NO')\n",
    "        "
   ]
  },
  {
   "cell_type": "code",
   "execution_count": 99,
   "metadata": {},
   "outputs": [
    {
     "name": "stdout",
     "output_type": "stream",
     "text": [
      "fe80::c40a:d94d:670f:74c6e\n",
      "NO\n"
     ]
    }
   ],
   "source": [
    "import socket\n",
    "ip = input()\n",
    "def ipV6(ip):\n",
    "    try:\n",
    "        socket.inet_pton(socket.AF_INET6, ip)\n",
    "    except:\n",
    "        return False\n",
    "    return True\n",
    "if ipV6(ip):\n",
    "    print('YES')\n",
    "else:\n",
    "    print('NO')"
   ]
  }
 ],
 "metadata": {
  "kernelspec": {
   "display_name": "Python 3",
   "language": "python",
   "name": "python3"
  },
  "language_info": {
   "codemirror_mode": {
    "name": "ipython",
    "version": 3
   },
   "file_extension": ".py",
   "mimetype": "text/x-python",
   "name": "python",
   "nbconvert_exporter": "python",
   "pygments_lexer": "ipython3",
   "version": "3.7.4"
  }
 },
 "nbformat": 4,
 "nbformat_minor": 2
}
