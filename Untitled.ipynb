{
 "cells": [
  {
   "cell_type": "code",
   "execution_count": 5,
   "metadata": {},
   "outputs": [],
   "source": [
    "import re\n",
    "class Check():\n",
    "    def ipv6(self, address):\n",
    "        p = re.compile(r'\\A([a-f\\d]{1,4}:){7}[a-f\\d]{1,4}\\Z|'\n",
    "                       r'\\A([a-f\\d]{1,4}:){1,6}(:[a-f\\d]{1,4}){1,2}\\Z|'\n",
    "                       r'\\A([a-f\\d]{1,4}:){1,5}(:[a-f\\d]{1,4}){1,3}\\Z|'\n",
    "                       r'\\A([a-f\\d]{1,4}:){1,4}(:[a-f\\d]{1,4}){1,4}\\Z|'\n",
    "                       r'\\A([a-f\\d]{1,4}:){1,3}(:[a-f\\d]{1,4}){1,5}\\Z|'\n",
    "                       r'\\A([a-f\\d]{1,4}:){1,2}(:[a-f\\d]{1,4}){1,6}\\Z|'\n",
    "                       r'\\A([a-f\\d]{1,4}:){1,6}(:[a-f\\d]{1,4}){1,2}\\Z|'\n",
    "                       r'\\A([a-f\\d]{1,4}:){1,7}:$|'\n",
    "                       r'^:(:[a-f\\d]{1,4}){1,7}\\Z'\n",
    "                       ,re.I)\n",
    "        macth = p.match(address)\n",
    "        if macth:\n",
    "            return address,1\n",
    "        return address,0"
   ]
  },
  {
   "cell_type": "code",
   "execution_count": 6,
   "metadata": {},
   "outputs": [
    {
     "name": "stdout",
     "output_type": "stream",
     "text": [
      "('2001:0DB8:0000:0000:0000:0000:1428:57ab', 1)\n",
      "('2001:0DB8:0000:0000:0000:0000::57ab', 1)\n",
      "('2001:0DB8:0000:0000:0000::0000:57ab', 1)\n",
      "('2001:0DB8:0000:0000:0000:57ab::', 1)\n",
      "('2001:0DB8:0::0:1428:57ab', 1)\n",
      "('fe80::204:FEFF', 1)\n",
      "('fe80::FEFF', 1)\n",
      "('::1', 1)\n",
      "('2001::', 1)\n"
     ]
    }
   ],
   "source": [
    "te = Check()\n",
    "print(te.ipv6(\"2001:0DB8:0000:0000:0000:0000:1428:57ab\"))\n",
    "print(te.ipv6(\"2001:0DB8:0000:0000:0000:0000::57ab\"))\n",
    "print(te.ipv6(\"2001:0DB8:0000:0000:0000::0000:57ab\"))\n",
    "print(te.ipv6(\"2001:0DB8:0000:0000:0000:57ab::\"))\n",
    "print(te.ipv6(\"2001:0DB8:0::0:1428:57ab\"))\n",
    "print(te.ipv6('fe80::204:FEFF'))\n",
    "print(te.ipv6('fe80::FEFF'))\n",
    "print(te.ipv6('::1'))\n",
    "print(te.ipv6('2001::'))"
   ]
  },
  {
   "cell_type": "code",
   "execution_count": 7,
   "metadata": {},
   "outputs": [
    {
     "name": "stdout",
     "output_type": "stream",
     "text": [
      "('2001:0DB8:0000:0000:0000:0000:1428:57abc', 0)\n",
      "('2001:0DB8:0000:0000:0000::1428:57az', 0)\n",
      "('2001:0DB8:0:0:0:::1428:57ab', 0)\n",
      "('2001:0DB8:0::0:1428:57a.b', 0)\n",
      "('2a001:0DB8::1428:57ab', 0)\n",
      "('2031:0000:1F1F:0000:00010:0100:11A0:ADDF', 0)\n",
      "('2031:0000:1F1F:0000:0000:0100:11A0:ADDZ', 0)\n",
      "('fe80::0:0:204:61ff::f156', 0)\n"
     ]
    }
   ],
   "source": [
    "print(te.ipv6(\"2001:0DB8:0000:0000:0000:0000:1428:57abc\"))\n",
    "print(te.ipv6(\"2001:0DB8:0000:0000:0000::1428:57az\"))\n",
    "print(te.ipv6(\"2001:0DB8:0:0:0:::1428:57ab\"))\n",
    "print(te.ipv6(\"2001:0DB8:0::0:1428:57a.b\"))\n",
    "print(te.ipv6(\"2a001:0DB8::1428:57ab\"))\n",
    "print(te.ipv6(\"2031:0000:1F1F:0000:00010:0100:11A0:ADDF\"))\n",
    "print(te.ipv6(\"2031:0000:1F1F:0000:0000:0100:11A0:ADDZ\"))\n",
    "print(te.ipv6('fe80::0:0:204:61ff::f156'))"
   ]
  },
  {
   "cell_type": "code",
   "execution_count": 51,
   "metadata": {},
   "outputs": [],
   "source": [
    "import re\n",
    "class Check():\n",
    "    def num_em(self, address):\n",
    "        p = re.compile(r'(^1[3,5,7,8]\\d{9}$|^0\\d{2,3}[\\.-_]\\d{8}$)|(^\\w+[\\.\\-_]?\\w+@\\w+\\.\\D+(.\\D+)?$)',re.I)\n",
    "        match = p.match(address)\n",
    "        if match:\n",
    "            return address,'OK'\n",
    "        return address,'Wrong'"
   ]
  },
  {
   "cell_type": "code",
   "execution_count": 52,
   "metadata": {},
   "outputs": [
    {
     "name": "stdout",
     "output_type": "stream",
     "text": [
      "('biao.wu@gmail.com', 'OK')\n",
      "('wu_biao@163.com', 'OK')\n",
      "('wubiao@yahoo.com.cn', 'OK')\n",
      "('wu-biao@qq.com', 'OK')\n",
      "('8888@qq.com', 'OK')\n",
      "('.biao@163.com', 'Wrong')\n",
      "('-wubiao@qq.com', 'Wrong')\n",
      "('_qq@qq.com', 'OK')\n",
      "('iao@@.com', 'Wrong')\n",
      "('ubiao@qq.com.', 'OK')\n",
      "('ubiao@qq.com.22', 'Wrong')\n",
      "('ubiao#@163.com', 'Wrong')\n",
      "('13530315051', 'OK')\n",
      "('075512345678', 'OK')\n",
      "('18667676767', 'OK')\n",
      "('135303154', 'Wrong')\n",
      "('135303112345', 'Wrong')\n",
      "('1234567890', 'Wrong')\n"
     ]
    }
   ],
   "source": [
    "lst = ['biao.wu@gmail.com',\n",
    "        'wu_biao@163.com',\n",
    "        'wubiao@yahoo.com.cn',\n",
    "        'wu-biao@qq.com',\n",
    "        '8888@qq.com',\n",
    "        '.biao@163.com',\n",
    "        '-wubiao@qq.com',\n",
    "        '_qq@qq.com',\n",
    "        'iao@@.com',\n",
    "        'ubiao@qq.com.',\n",
    "        'ubiao@qq.com.22',\n",
    "        'ubiao#@163.com',\n",
    "        '13530315051',\n",
    "        '075512345678',\n",
    "        '18667676767',\n",
    "       '135303154',\n",
    "        '135303112345',\n",
    "        '1234567890']\n",
    "checker = Check()\n",
    "for i in lst:\n",
    "    print(checker.num_em(i))"
   ]
  },
  {
   "cell_type": "code",
   "execution_count": null,
   "metadata": {},
   "outputs": [],
   "source": []
  },
  {
   "cell_type": "code",
   "execution_count": null,
   "metadata": {},
   "outputs": [],
   "source": []
  }
 ],
 "metadata": {
  "kernelspec": {
   "display_name": "Python 3",
   "language": "python",
   "name": "python3"
  },
  "language_info": {
   "codemirror_mode": {
    "name": "ipython",
    "version": 3
   },
   "file_extension": ".py",
   "mimetype": "text/x-python",
   "name": "python",
   "nbconvert_exporter": "python",
   "pygments_lexer": "ipython3",
   "version": "3.7.4"
  }
 },
 "nbformat": 4,
 "nbformat_minor": 2
}
