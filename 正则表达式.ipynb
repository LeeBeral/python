{
 "cells": [
  {
   "cell_type": "code",
   "execution_count": 4,
   "metadata": {},
   "outputs": [],
   "source": [
    "import re\n",
    "def ipv6_check(addr):\n",
    "    '''\n",
    "    Returns True if the IPv6 address (and optional subnet) are valid, otherwise\n",
    "    returns False.\n",
    "    '''\n",
    "    ip6_regex = (\n",
    "                r'(^(?:[A-F0-9]{1,4}:){7}[A-F0-9]{1,4}$)|'\n",
    "                r'(\\A([0-9a-f]{1,4}:){1,1}(:[0-9a-f]{1,4}){1,6}\\Z)|'\n",
    "                r'(\\A([0-9a-f]{1,4}:){1,2}(:[0-9a-f]{1,4}){1,5}\\Z)|'\n",
    "                r'(\\A([0-9a-f]{1,4}:){1,3}(:[0-9a-f]{1,4}){1,4}\\Z)|'\n",
    "                r'(\\A([0-9a-f]{1,4}:){1,4}(:[0-9a-f]{1,4}){1,3}\\Z)|'\n",
    "                r'(\\A([0-9a-f]{1,4}:){1,5}(:[0-9a-f]{1,4}){1,2}\\Z)|'\n",
    "                r'(\\A([0-9a-f]{1,4}:){1,6}(:[0-9a-f]{1,4}){1,1}\\Z)|'\n",
    "                r'(\\A(([0-9a-f]{1,4}:){1,7}|:):\\Z)|(\\A:(:[0-9a-f]{1,4}){1,7}\\Z)'\n",
    "                r'(\\A((([0-9a-f]{1,4}:){6})(25[0-5]|2[0-4]\\d|[0-1]?\\d?\\d)(\\.(25[0-5]|2[0-4]\\d|[0-1]?\\d?\\d)){3})\\Z)|'\n",
    "                r'(\\A(([0-9a-f]{1,4}:){5}[0-9a-f]{1,4}:(25[0-5]|2[0-4]\\d|[0-1]?\\d?\\d)(\\.(25[0-5]|2[0-4]\\d|[0-1]?\\d?\\d)){3})\\Z)|'\n",
    "                r'(\\A([0-9a-f]{1,4}:){5}:[0-9a-f]{1,4}:(25[0-5]|2[0-4]\\d|[0-1]?\\d?\\d)(\\.(25[0-5]|2[0-4]\\d|[0-1]?\\d?\\d)){3}\\Z)|'\n",
    "                r'(\\A([0-9a-f]{1,4}:){1,1}(:[0-9a-f]{1,4}){1,4}:(25[0-5]|2[0-4]\\d|[0-1]?\\d?\\d)(\\.(25[0-5]|2[0-4]\\d|[0-1]?\\d?\\d)){3}\\Z)|'\n",
    "                r'(\\A([0-9a-f]{1,4}:){1,2}(:[0-9a-f]{1,4}){1,3}:(25[0-5]|2[0-4]\\d|[0-1]?\\d?\\d)(\\.(25[0-5]|2[0-4]\\d|[0-1]?\\d?\\d)){3}\\Z)|'\n",
    "                r'(\\A([0-9a-f]{1,4}:){1,3}(:[0-9a-f]{1,4}){1,2}:(25[0-5]|2[0-4]\\d|[0-1]?\\d?\\d)(\\.(25[0-5]|2[0-4]\\d|[0-1]?\\d?\\d)){3}\\Z)|'\n",
    "                r'(\\A([0-9a-f]{1,4}:){1,4}(:[0-9a-f]{1,4}){1,1}:(25[0-5]|2[0-4]\\d|[0-1]?\\d?\\d)(\\.(25[0-5]|2[0-4]\\d|[0-1]?\\d?\\d)){3}\\Z)|'\n",
    "                r'(\\A(([0-9a-f]{1,4}:){1,5}|:):(25[0-5]|2[0-4]\\d|[0-1]?\\d?\\d)(\\.(25[0-5]|2[0-4]\\d|[0-1]?\\d?\\d)){3}\\Z)|'\n",
    "                r'(\\A:(:[0-9a-f]{1,4}){1,5}:(25[0-5]|2[0-4]\\d|[0-1]?\\d?\\d)(\\.(25[0-5]|2[0-4]\\d|[0-1]?\\d?\\d)){3}\\Z)')\n",
    "    return bool(re.match(ip6_regex, addr,flags=re.IGNORECASE))"
   ]
  },
  {
   "cell_type": "code",
   "execution_count": 105,
   "metadata": {},
   "outputs": [
    {
     "name": "stdout",
     "output_type": "stream",
     "text": [
      "True\n",
      "True\n",
      "True\n",
      "True\n",
      "True\n",
      "True\n",
      "True\n",
      "False\n",
      "False\n",
      "False\n",
      "False\n",
      "False\n",
      "False\n",
      "False\n",
      "False\n"
     ]
    }
   ],
   "source": [
    "print(ipv6_check(\"2001:0DB8:0000:0000:0000:0000:1428:57ab\"))\n",
    "print(ipv6_check(\"2001:0DB8:0000:0000:0000::1428:57ab\"))\n",
    "print(ipv6_check(\"2001:0DB8:0:0:0:0:1428:57ab\"))\n",
    "print(ipv6_check(\"2001:0DB8:0::0:1428:57ab\"))\n",
    "print(ipv6_check('fe80::204:61ff'))\n",
    "print(ipv6_check('::1'))\n",
    "print(ipv6_check('2001::'))\n",
    "print(ipv6_check(\"2001:0DB8:0000:0000:0000:0000:1428:57abc\"))\n",
    "print(ipv6_check(\"2001:0DB8:0000:0000:0000::1428:57az\"))\n",
    "print(ipv6_check(\"2001:0DB8:0:0:0:::1428:57ab\"))\n",
    "print(ipv6_check(\"2001:0DB8:0::0:1428:57a.b\"))\n",
    "print(ipv6_check(\"2001:0DB8::1428:57ab1\"))\n",
    "print(ipv6_check(\"2031:0000:1F1F:0000:00010:0100:11A0:ADDF\"))\n",
    "print(ipv6_check(\"2031:0000:1F1F:0000:0000:0100:11A0:ADDZ\"))\n",
    "print(ipv6_check('fe80::0:0:204:61ff::f156'))"
   ]
  },
  {
   "cell_type": "code",
   "execution_count": 12,
   "metadata": {},
   "outputs": [],
   "source": [
    "import re\n",
    "\n",
    "def check(targ):\n",
    "    \n",
    "    \"\"\"\n",
    "    说明：\n",
    "    [^\\._-][\\w\\.-]+@(?:[A-Za-z0-9]+\\.)+[A-Za-z]+$匹配邮箱。\n",
    "    综合目前国内常用的邮箱，大概通用的规则包括：\n",
    "    1、[^\\._]，不能以下划线和句点开头。\n",
    "    2、[\\w\\.]+，包括字母、数字。而对句点及下划线各提供商有差别，对此有效性不做更严格的判断。\n",
    "    3、@是必须的。\n",
    "    4、(?:[A-Za-z0-9]+\\.)+[A-Za-z]+$，@后以xxx.xxx结尾，考虑到多级域名，会有这种情况xxx.xxx.xxx如xxx@yahoo.com.cn\n",
    "    ^0\\d{2,3}\\d{7,8}$|^1[358]\\d{9}$|^147\\d{8}$匹配电话号码。\n",
    "    只考虑国内的情况,大概通用的规则包括：\n",
    "    1、^0\\d{2,3}，固定电话区号3-4位数字，以0开头。\n",
    "    2、d{7,8}$，固定电话一般7-8位数字。\n",
    "    3、国内目前的手机号码都是11位数字，三大运营商的号码段基本都在上面列出来了，我们这里除了147的号码的段，其他的都只考虑前两位，\n",
    "    第三位就不考虑了，否则，工作量也很大。前两位包括13*、15*、18*。\n",
    "    \"\"\"\n",
    "    p = re.compile('[^\\._-][\\w\\.-]+@(?:[A-Za-z0-9]+\\.)+[A-Za-z]+$|^0\\d{2,3}\\d{7,8}$|^1[358]\\d{9}$|^147\\d{8}$')\n",
    "    match = p.match(targ)\n",
    "    if match:\n",
    "        return targ,'normal'\n",
    "    else:\n",
    "        return targ,'error!'"
   ]
  },
  {
   "cell_type": "code",
   "execution_count": 13,
   "metadata": {},
   "outputs": [
    {
     "name": "stdout",
     "output_type": "stream",
     "text": [
      "正确的邮箱地址格式：\n",
      "('biao.wu@gmail.com', 'normal')\n",
      "('wu_biao@163.com', 'normal')\n",
      "('wubiao@yahoo.com.cn', 'normal')\n",
      "('wu-biao@qq.com', 'normal')\n",
      "('8888@qq.com', 'normal')\n",
      "错误的邮箱地址格式：\n",
      "('.biao@163.com', 'error!')\n",
      "('-wubiao@qq.com', 'error!')\n",
      "('_qq@qq.com', 'error!')\n",
      "('iao@@.com', 'error!')\n",
      "('ubiao@qq.com.', 'error!')\n",
      "('ubiao@qq.com.22', 'error!')\n",
      "('ubiao#@163.com', 'error!')\n",
      "正确的电话号码格式：\n",
      "('13530315051', 'normal')\n",
      "('075512345678', 'normal')\n",
      "('18667676767', 'normal')\n",
      "错误的电话号码格式：\n",
      "('135303154', 'error!')\n",
      "('135303112345', 'error!')\n",
      "('1234567890', 'error!')\n"
     ]
    }
   ],
   "source": [
    "print('正确的邮箱地址格式：')\n",
    "\n",
    "print(check('biao.wu@gmail.com'))\n",
    "print(check('wu_biao@163.com'))\n",
    "print(check('wubiao@yahoo.com.cn'))\n",
    "print(check('wu-biao@qq.com'))\n",
    "print(check('8888@qq.com'))\n",
    "\n",
    "print('错误的邮箱地址格式：')\n",
    "\n",
    "print(check('.biao@163.com'))\n",
    "print(check('-wubiao@qq.com'))\n",
    "print(check('_qq@qq.com'))\n",
    "print(check('iao@@.com'))\n",
    "print(check('ubiao@qq.com.'))\n",
    "print(check('ubiao@qq.com.22'))\n",
    "print(check('ubiao#@163.com'))\n",
    "\n",
    "print('正确的电话号码格式：')\n",
    "\n",
    "print(check('13530315051'))\n",
    "print(check('075512345678'))\n",
    "print(check('18667676767'))\n",
    "\n",
    "print('错误的电话号码格式：')\n",
    "\n",
    "print(check('135303154'))\n",
    "print(check('135303112345'))\n",
    "print(check('1234567890'))\n"
   ]
  },
  {
   "cell_type": "code",
   "execution_count": 15,
   "metadata": {},
   "outputs": [],
   "source": [
    "import re\n",
    "\n",
    "class Check():\n",
    "    \n",
    "    def IPv4(self,adress):\n",
    "        f = re.compile(r'^(25[0-5]|2[0-4]\\d|[0-1]?\\d?\\d)(\\.(25[0-5]|2[0-4]\\d|[0-1]?\\d?\\d)){3}$')\n",
    "        if re.match(f, adress):\n",
    "            return 1\n",
    "        else:\n",
    "            return 0"
   ]
  },
  {
   "cell_type": "code",
   "execution_count": 17,
   "metadata": {},
   "outputs": [
    {
     "name": "stdout",
     "output_type": "stream",
     "text": [
      "1\n",
      "0\n",
      "0\n",
      "0\n",
      "0\n",
      "1\n"
     ]
    }
   ],
   "source": [
    "lst = [\n",
    "    '192.168.0.1',\n",
    "    '182,273,3,2',\n",
    "    '23.32.2',\n",
    "    '23.223.2.13.2',\n",
    "    'dsa.32.2.3',\n",
    "    '0.0.1.1'\n",
    "]\n",
    "checker = Check()\n",
    "for i in lst:\n",
    "    print(checker.IPv4(i))"
   ]
  },
  {
   "cell_type": "code",
   "execution_count": 96,
   "metadata": {},
   "outputs": [],
   "source": [
    "import re\n",
    "class Check():\n",
    "    def ipv6(self, address):\n",
    "        p = re.compile(r'\\A([a-f0-9]{1,4}:){1,7}[a-f0-9]{1,4}\\Z|'\n",
    "                       r'\\A([a-f0-9]{1,4}:){1,6}(:[a-f0-9]{1,4})\\Z|'\n",
    "                       r'\\A([a-f0-9]{1,4}:){1,5}(:[a-f0-9]{1,4}){1,2}\\Z|'\n",
    "                       r'\\A([a-f0-9]{1,4}:){1,4}(:[a-f0-9]{1,4}){1,3}\\Z|'\n",
    "                       r'\\A([a-f0-9]{1,4}:){1,3}(:[a-f0-9]{1,4}){1,4}\\Z|'\n",
    "                       r'\\A([a-f0-9]{1,4}:){1,2}(:[a-f0-9]{1,4}){1,5}\\Z|'\n",
    "                       r'\\A([a-f0-9]{1,4}:){1}(:[a-f0-9]{1,4}){1,6}\\Z|'\n",
    "                       r'^:(:[a-f0-9]{1,4}){1,6}\\Z|'\n",
    "                       r'\\A([a-f0-9]{1,4}:){1,6}:$'\n",
    "                       ,flags=re.I)\n",
    "        match = p.match(address)\n",
    "        if match:\n",
    "            return 1\n",
    "        else:\n",
    "            return 0"
   ]
  },
  {
   "cell_type": "code",
   "execution_count": 97,
   "metadata": {},
   "outputs": [
    {
     "name": "stdout",
     "output_type": "stream",
     "text": [
      "1\n",
      "1\n",
      "1\n",
      "1\n",
      "1\n",
      "1\n",
      "1\n",
      "1\n",
      "1\n"
     ]
    }
   ],
   "source": [
    "te = Check()\n",
    "print(te.ipv6(\"2001:0DB8:0000:0000:0000:0000:1428:57ab\"))\n",
    "print(te.ipv6(\"2001:0DB8:0000:0000:0000:0000::57ab\"))\n",
    "print(te.ipv6(\"2001:0DB8:0000:0000:0000::0000:57ab\"))\n",
    "print(te.ipv6(\"2001:0DB8:0000:0000:0000:57ab::\"))\n",
    "print(te.ipv6(\"2001:0DB8:0::0:1428:57ab\"))\n",
    "print(te.ipv6('fe80::204:FEFF'))\n",
    "print(te.ipv6('fe80::FEFF'))\n",
    "print(te.ipv6('::1'))\n",
    "print(te.ipv6('2001::'))"
   ]
  },
  {
   "cell_type": "code",
   "execution_count": 98,
   "metadata": {},
   "outputs": [
    {
     "name": "stdout",
     "output_type": "stream",
     "text": [
      "0\n",
      "0\n",
      "0\n",
      "0\n",
      "0\n",
      "0\n",
      "0\n",
      "0\n"
     ]
    }
   ],
   "source": [
    "print(te.ipv6(\"2001:0DB8:0000:0000:0000:0000:1428:57abc\"))\n",
    "print(te.ipv6(\"2001:0DB8:0000:0000:0000::1428:57az\"))\n",
    "print(te.ipv6(\"2001:0DB8:0:0:0:::1428:57ab\"))\n",
    "print(te.ipv6(\"2001:0DB8:0::0:1428:57a.b\"))\n",
    "print(te.ipv6(\"2a001:0DB8::1428:57ab\"))\n",
    "print(te.ipv6(\"2031:0000:1F1F:0000:00010:0100:11A0:ADDF\"))\n",
    "print(te.ipv6(\"2031:0000:1F1F:0000:0000:0100:11A0:ADDZ\"))\n",
    "print(te.ipv6('fe80::0:0:204:61ff::f156'))"
   ]
  },
  {
   "cell_type": "code",
   "execution_count": 139,
   "metadata": {},
   "outputs": [],
   "source": [
    "import re\n",
    "class Check():\n",
    "    def IPv4(self, address):\n",
    "        p = re.compile(r'^(2[0-4]\\d|25[0-4]|1\\d\\d|[1-9]\\d|[1-9])(\\.(2[0-4]\\d|25[0-4]|1\\d\\d|[1-9]\\d|\\d)){3}$')\n",
    "        match = p.match(address)\n",
    "        if match:\n",
    "            return address,1\n",
    "        else:\n",
    "            return address,0"
   ]
  },
  {
   "cell_type": "code",
   "execution_count": 141,
   "metadata": {},
   "outputs": [
    {
     "name": "stdout",
     "output_type": "stream",
     "text": [
      "('192.168.0.1', 1)\n",
      "('245.23.3.2', 1)\n",
      "('45,23,3,256', 0)\n",
      "('182,273,3,2', 0)\n",
      "('23.32.2', 0)\n",
      "('8.3.6.2', 1)\n",
      "('23.223.2.13.2', 0)\n",
      "('dsa.32.2.3', 0)\n",
      "('0.0.1.1', 0)\n"
     ]
    }
   ],
   "source": [
    "lst = [\n",
    "    '192.168.0.1',\n",
    "    '245.23.3.2',\n",
    "    '45,23,3,256',\n",
    "    '182,273,3,2',\n",
    "    '23.32.2',\n",
    "    '8.3.6.2',\n",
    "    '23.223.2.13.2',\n",
    "    'dsa.32.2.3',\n",
    "    '0.0.1.1'\n",
    "]\n",
    "checker = Check()\n",
    "for i in lst:\n",
    "    print(checker.IPv4(i))"
   ]
  },
  {
   "cell_type": "code",
   "execution_count": 169,
   "metadata": {},
   "outputs": [],
   "source": [
    "import re\n",
    "class Check():\n",
    "    def num_em(self, address):\n",
    "        p = re.compile(r'(^1[3,5,7,8](\\d){9}$|^0[1-9]\\d{1,2}[\\-\\s]?\\d{8}$|^[^\\.\\-\\_](\\w)+[\\.\\-\\_]?(\\w)+@(\\w)+(.[a-z]{2,3}){1,2}$)',re.I)\n",
    "        match = p.match(address)\n",
    "        if match:\n",
    "            return address,'OK'\n",
    "        else:\n",
    "            return address,'Wrong'"
   ]
  },
  {
   "cell_type": "code",
   "execution_count": 170,
   "metadata": {},
   "outputs": [
    {
     "name": "stdout",
     "output_type": "stream",
     "text": [
      "('biao.wu@gmail.com', 'OK')\n",
      "('wu_biao@163.com', 'OK')\n",
      "('wubiao@yahoo.com.cn', 'OK')\n",
      "('wu-biao@qq.com', 'OK')\n",
      "('8888@qq.com', 'OK')\n",
      "('.biao@163.com', 'Wrong')\n",
      "('-wubiao@qq.com', 'Wrong')\n",
      "('_qq@qq.com', 'Wrong')\n",
      "('iao@@.com', 'Wrong')\n",
      "('ubiao@qq.com.', 'Wrong')\n",
      "('ubiao@qq.com.22', 'Wrong')\n",
      "('ubiao#@163.com', 'Wrong')\n",
      "('13530315051', 'OK')\n",
      "('075512345678', 'OK')\n",
      "('18667676767', 'OK')\n",
      "('135303154', 'Wrong')\n",
      "('135303112345', 'Wrong')\n",
      "('1234567890', 'Wrong')\n"
     ]
    }
   ],
   "source": [
    "lst = ['biao.wu@gmail.com',\n",
    "        'wu_biao@163.com',\n",
    "        'wubiao@yahoo.com.cn',\n",
    "        'wu-biao@qq.com',\n",
    "        '8888@qq.com',\n",
    "        '.biao@163.com',\n",
    "        '-wubiao@qq.com',\n",
    "        '_qq@qq.com',\n",
    "        'iao@@.com',\n",
    "        'ubiao@qq.com.',\n",
    "        'ubiao@qq.com.22',\n",
    "        'ubiao#@163.com',\n",
    "        '13530315051',\n",
    "        '075512345678',\n",
    "        '18667676767',\n",
    "       '135303154',\n",
    "        '135303112345',\n",
    "        '1234567890']\n",
    "checker = Check()\n",
    "for i in lst:\n",
    "    print(checker.num_em(i))"
   ]
  },
  {
   "cell_type": "code",
   "execution_count": null,
   "metadata": {},
   "outputs": [],
   "source": []
  },
  {
   "cell_type": "code",
   "execution_count": null,
   "metadata": {},
   "outputs": [],
   "source": []
  }
 ],
 "metadata": {
  "kernelspec": {
   "display_name": "Python 3",
   "language": "python",
   "name": "python3"
  },
  "language_info": {
   "codemirror_mode": {
    "name": "ipython",
    "version": 3
   },
   "file_extension": ".py",
   "mimetype": "text/x-python",
   "name": "python",
   "nbconvert_exporter": "python",
   "pygments_lexer": "ipython3",
   "version": "3.7.4"
  }
 },
 "nbformat": 4,
 "nbformat_minor": 2
}
