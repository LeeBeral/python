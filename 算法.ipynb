{
 "cells": [
  {
   "cell_type": "markdown",
   "metadata": {},
   "source": [
    "1.冒泡排序"
   ]
  },
  {
   "cell_type": "code",
   "execution_count": 18,
   "metadata": {},
   "outputs": [
    {
     "data": {
      "text/plain": [
       "[1, 1, 2, 3, 4, 5, 5, 7, 23, 33, 76, 342, 423, 454, 456, 546, 687]"
      ]
     },
     "execution_count": 18,
     "metadata": {},
     "output_type": "execute_result"
    }
   ],
   "source": [
    "lst = [1,2,342,5,456,76,454,423,23,4,546,687,1,7,5,33,3]\n",
    "def bubb(lst):\n",
    "    for i in range(len(lst) - 1):\n",
    "        for j in range(len(lst) - i - 1):\n",
    "            if lst[j] > lst[j + 1]:\n",
    "                lst[j], lst[j + 1] = lst[j + 1], lst[j]\n",
    "    return lst\n",
    "bubb(lst)"
   ]
  },
  {
   "cell_type": "markdown",
   "metadata": {},
   "source": [
    "2.选择排序"
   ]
  },
  {
   "cell_type": "code",
   "execution_count": 66,
   "metadata": {},
   "outputs": [
    {
     "data": {
      "text/plain": [
       "[3, 4, 5, 5, 7, 23, 33, 76, 342, 423, 454, 456, 546, 687]"
      ]
     },
     "execution_count": 66,
     "metadata": {},
     "output_type": "execute_result"
    }
   ],
   "source": [
    "lst = [342,5,456,76,454,423,23,4,546,687,7,5,33,3]\n",
    "def chioce(nums):    \n",
    "    for i in range(len(nums) -1):\n",
    "        min = i\n",
    "        for j in range(i + 1, len(nums)):\n",
    "            if nums[j] < nums[min]:\n",
    "                min = j\n",
    "        nums[i], nums[min] = nums[min], nums[i]\n",
    "    return nums\n",
    "chioce(lst)"
   ]
  },
  {
   "cell_type": "markdown",
   "metadata": {},
   "source": [
    "3.插入排序"
   ]
  },
  {
   "cell_type": "code",
   "execution_count": null,
   "metadata": {},
   "outputs": [],
   "source": [
    "def insertionSort(nums):\n",
    "    for i in range(len(nums) - 1):  # 遍历 len(nums)-1 次\n",
    "        curNum, preIndex = nums[i+1], i  # curNum 保存当前待插入的数\n",
    "        while preIndex >= 0 and curNum < nums[preIndex]: # 将比 curNum 大的元素向后移动\n",
    "            nums[preIndex + 1] = nums[preIndex]\n",
    "            preIndex -= 1\n",
    "        nums[preIndex + 1] = curNum  # 待插入的数的正确位置   \n",
    "    return nums"
   ]
  },
  {
   "cell_type": "markdown",
   "metadata": {},
   "source": [
    "4.归并排序"
   ]
  },
  {
   "cell_type": "code",
   "execution_count": 80,
   "metadata": {},
   "outputs": [
    {
     "data": {
      "text/plain": [
       "[3, 4, 5, 5, 7, 23, 33, 76, 342, 423, 454, 456, 546, 687]"
      ]
     },
     "execution_count": 80,
     "metadata": {},
     "output_type": "execute_result"
    }
   ],
   "source": [
    "lst = [342,5,456,76,454,423,23,4,546,687,7,5,33,3]\n",
    "def mergeSort(nums):\n",
    "    # 归并过程\n",
    "    def merge(left, right):\n",
    "        result = []  # 保存归并后的结果\n",
    "        i = j = 0\n",
    "        while i < len(left) and j < len(right):\n",
    "            if left[i] <= right[j]:\n",
    "                result.append(left[i])\n",
    "                i += 1\n",
    "            else:\n",
    "                result.append(right[j])\n",
    "                j += 1\n",
    "        result = result + left[i:] + right[j:] # 剩余的元素直接添加到末尾\n",
    "        return result\n",
    "    # 递归过程\n",
    "    if len(nums) <= 1:\n",
    "        return nums\n",
    "    mid = len(nums) // 2\n",
    "    left = mergeSort(nums[:mid])\n",
    "    right = mergeSort(nums[mid:])\n",
    "    return merge(left, right)\n",
    "mergeSort(lst)"
   ]
  },
  {
   "cell_type": "code",
   "execution_count": 100,
   "metadata": {
    "scrolled": true
   },
   "outputs": [
    {
     "ename": "TypeError",
     "evalue": "merge() missing 1 required positional argument: 'right'",
     "output_type": "error",
     "traceback": [
      "\u001b[1;31m---------------------------------------------------------------------------\u001b[0m",
      "\u001b[1;31mTypeError\u001b[0m                                 Traceback (most recent call last)",
      "\u001b[1;32m<ipython-input-100-e7d6400c5de5>\u001b[0m in \u001b[0;36m<module>\u001b[1;34m\u001b[0m\n\u001b[0;32m     22\u001b[0m         \u001b[1;32mreturn\u001b[0m \u001b[0mfin\u001b[0m\u001b[1;33m\u001b[0m\u001b[1;33m\u001b[0m\u001b[0m\n\u001b[0;32m     23\u001b[0m \u001b[0mcon\u001b[0m \u001b[1;33m=\u001b[0m \u001b[0mMergeSort\u001b[0m\u001b[1;33m(\u001b[0m\u001b[1;33m)\u001b[0m\u001b[1;33m\u001b[0m\u001b[1;33m\u001b[0m\u001b[0m\n\u001b[1;32m---> 24\u001b[1;33m \u001b[0mcon\u001b[0m\u001b[1;33m.\u001b[0m\u001b[0mmerge\u001b[0m\u001b[1;33m(\u001b[0m\u001b[0mlst\u001b[0m\u001b[1;33m)\u001b[0m\u001b[1;33m\u001b[0m\u001b[1;33m\u001b[0m\u001b[0m\n\u001b[0m",
      "\u001b[1;32m<ipython-input-100-e7d6400c5de5>\u001b[0m in \u001b[0;36mmerge\u001b[1;34m(self, nums)\u001b[0m\n\u001b[0;32m      6\u001b[0m \u001b[1;33m\u001b[0m\u001b[0m\n\u001b[0;32m      7\u001b[0m         \u001b[0mmid\u001b[0m \u001b[1;33m=\u001b[0m \u001b[0mlen\u001b[0m\u001b[1;33m(\u001b[0m\u001b[0mnums\u001b[0m\u001b[1;33m)\u001b[0m \u001b[1;33m//\u001b[0m \u001b[1;36m2\u001b[0m\u001b[1;33m\u001b[0m\u001b[1;33m\u001b[0m\u001b[0m\n\u001b[1;32m----> 8\u001b[1;33m         \u001b[0mleft\u001b[0m \u001b[1;33m=\u001b[0m \u001b[0mmerge\u001b[0m\u001b[1;33m(\u001b[0m\u001b[0mnums\u001b[0m\u001b[1;33m[\u001b[0m\u001b[1;33m:\u001b[0m\u001b[0mmid\u001b[0m\u001b[1;33m]\u001b[0m\u001b[1;33m)\u001b[0m\u001b[1;33m\u001b[0m\u001b[1;33m\u001b[0m\u001b[0m\n\u001b[0m\u001b[0;32m      9\u001b[0m         \u001b[0mright\u001b[0m \u001b[1;33m=\u001b[0m \u001b[0mmerge\u001b[0m\u001b[1;33m(\u001b[0m\u001b[0mnums\u001b[0m\u001b[1;33m[\u001b[0m\u001b[0mmid\u001b[0m\u001b[1;33m:\u001b[0m\u001b[1;33m]\u001b[0m\u001b[1;33m)\u001b[0m\u001b[1;33m\u001b[0m\u001b[1;33m\u001b[0m\u001b[0m\n\u001b[0;32m     10\u001b[0m         \u001b[1;32mreturn\u001b[0m \u001b[0mself\u001b[0m\u001b[1;33m.\u001b[0m\u001b[0mcom\u001b[0m\u001b[1;33m(\u001b[0m\u001b[0mleft\u001b[0m\u001b[1;33m,\u001b[0m \u001b[0mright\u001b[0m\u001b[1;33m)\u001b[0m\u001b[1;33m\u001b[0m\u001b[1;33m\u001b[0m\u001b[0m\n",
      "\u001b[1;31mTypeError\u001b[0m: merge() missing 1 required positional argument: 'right'"
     ]
    }
   ],
   "source": [
    "lst = [342,5,456,76,454,423,23,4,546,687,7,5,33,3]\n",
    "class MergeSort():\n",
    "    def merge(self, nums):\n",
    "        if len(nums) <= 1:\n",
    "            return nums\n",
    "        \n",
    "        mid = len(nums) // 2\n",
    "        left = merge(nums[:mid])\n",
    "        right = merge(nums[mid:])\n",
    "        return self.com(left, right)\n",
    "    def com(self, left, right):\n",
    "        res = []\n",
    "        i = j = 0\n",
    "        while len(left) > i and len(right) > i:\n",
    "            if left[i] < right[j]:\n",
    "                res.append(left[i])\n",
    "                i += 1\n",
    "            else:\n",
    "                res.append(right[j])\n",
    "                j += 1\n",
    "        fin = res + left[i:] + right[j:]\n",
    "        return fin\n",
    "con = MergeSort()\n",
    "con.merge(lst)"
   ]
  },
  {
   "cell_type": "code",
   "execution_count": 104,
   "metadata": {},
   "outputs": [
    {
     "name": "stdout",
     "output_type": "stream",
     "text": [
      "1 [3]\n",
      "1 [6]\n",
      "1 [4]\n",
      "1 [8]\n",
      "3 [1, 3, 6]\n"
     ]
    },
    {
     "data": {
      "text/plain": [
       "[1, 2, 3, 4, 6, 8]"
      ]
     },
     "execution_count": 104,
     "metadata": {},
     "output_type": "execute_result"
    }
   ],
   "source": [
    "lst = [6,3,1,8,4,2]\n",
    "def merge_sort(ary):\n",
    "\n",
    "    if len(ary) <= 1:\n",
    "        return ary\n",
    "\n",
    "    median = int(len(ary)/2)    # 二分分解\n",
    "    left = merge_sort(ary[:median])\n",
    "    right = merge_sort(ary[median:])\n",
    "    print(median,left)\n",
    "    return merge(left, right)    # 合并数组\n",
    "\n",
    "def merge(left, right):\n",
    "    '''合并操作，将两个有序数组left[]和right[]合并成一个大的有序数组'''\n",
    "    res = []\n",
    "    i = j = k = 0\n",
    "    while(i < len(left) and j < len(right)):\n",
    "        if left[i] < right[j]:\n",
    "            res.append(left[i])\n",
    "            i += 1\n",
    "        else:\n",
    "            res.append(right[j])\n",
    "            j += 1\n",
    "\n",
    "    res = res + left[i:] + right[j:]\n",
    "    return res\n",
    "merge_sort(lst)"
   ]
  },
  {
   "cell_type": "markdown",
   "metadata": {},
   "source": [
    "5.计数排序"
   ]
  },
  {
   "cell_type": "code",
   "execution_count": 79,
   "metadata": {},
   "outputs": [
    {
     "data": {
      "text/plain": [
       "[3, 4, 5, 5, 7, 23, 33, 76, 342, 423, 454, 456, 546, 687]"
      ]
     },
     "execution_count": 79,
     "metadata": {},
     "output_type": "execute_result"
    }
   ],
   "source": [
    "lst = [342,5,456,76,454,423,23,4,546,687,7,5,33,3]\n",
    "def countingSort(nums):\n",
    "    bucket = [0] * (max(nums) + 1) # 桶的个数\n",
    "    for num in nums:  # 将元素值作为键值存储在桶中，记录其出现的次数\n",
    "        bucket[num] += 1\n",
    "    i = 0  # nums 的索引\n",
    "    for j in range(len(bucket)):\n",
    "        while bucket[j] > 0:\n",
    "            nums[i] = j\n",
    "            bucket[j] -= 1\n",
    "            i += 1\n",
    "    return nums\n",
    "countingSort(lst)"
   ]
  },
  {
   "cell_type": "code",
   "execution_count": 111,
   "metadata": {},
   "outputs": [
    {
     "name": "stdout",
     "output_type": "stream",
     "text": [
      "True\n"
     ]
    },
    {
     "data": {
      "text/plain": [
       "'Python'"
      ]
     },
     "execution_count": 111,
     "metadata": {},
     "output_type": "execute_result"
    }
   ],
   "source": [
    "str = \"Hello,Python\";\n",
    "suffix = \"Python\";\n",
    "print (str.endswith(suffix, 6, 12))"
   ]
  },
  {
   "cell_type": "code",
   "execution_count": null,
   "metadata": {},
   "outputs": [],
   "source": []
  }
 ],
 "metadata": {
  "kernelspec": {
   "display_name": "Python 3",
   "language": "python",
   "name": "python3"
  },
  "language_info": {
   "codemirror_mode": {
    "name": "ipython",
    "version": 3
   },
   "file_extension": ".py",
   "mimetype": "text/x-python",
   "name": "python",
   "nbconvert_exporter": "python",
   "pygments_lexer": "ipython3",
   "version": "3.7.4"
  }
 },
 "nbformat": 4,
 "nbformat_minor": 2
}
